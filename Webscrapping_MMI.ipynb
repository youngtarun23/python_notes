{
  "nbformat": 4,
  "nbformat_minor": 0,
  "metadata": {
    "colab": {
      "name": "Webscrapping_MMI.ipynb",
      "provenance": [],
      "authorship_tag": "ABX9TyMkXEhGLnieOVg3RedyjfAe",
      "include_colab_link": true
    },
    "kernelspec": {
      "name": "python3",
      "display_name": "Python 3"
    }
  },
  "cells": [
    {
      "cell_type": "markdown",
      "metadata": {
        "id": "view-in-github",
        "colab_type": "text"
      },
      "source": [
        "<a href=\"https://colab.research.google.com/github/youngtarun23/python_notes/blob/master/Webscrapping_MMI.ipynb\" target=\"_parent\"><img src=\"https://colab.research.google.com/assets/colab-badge.svg\" alt=\"Open In Colab\"/></a>"
      ]
    },
    {
      "cell_type": "code",
      "metadata": {
        "id": "fCXKzqHBxpPQ",
        "colab_type": "code",
        "colab": {
          "base_uri": "https://localhost:8080/",
          "height": 34
        },
        "outputId": "d0e8ffb2-86ef-49ec-9228-f2c0a0ea81ff"
      },
      "source": [
        "# Import libraries\n",
        "import json\n",
        "import requests\n",
        "import urllib.request\n",
        "import time\n",
        "from bs4 import BeautifulSoup\n",
        "\n",
        "# Set the URL you want to webscrape from\n",
        "url = 'https://www.tickertape.in/market-mood-index'\n",
        "# Connect to the URL\n",
        "response = requests.get(url)\n",
        "\n",
        "# Parse HTML and save to BeautifulSoup object¶\n",
        "soup = BeautifulSoup(response.text, \"html.parser\")\n",
        "#use soup to find the script and values after comma help you search with in the data\n",
        "#convert the HTML to Text and use it for JSON extracter \n",
        "final_data =soup.find('script', id='__NEXT_DATA__',type='application/json').text\n",
        "#check the JSON Formater site if it failes to load the data https://jsonformatter.org/c587cd\n",
        "data_extract= json.loads(final_data)\n",
        "currentValue = data_extract['props']['pageProps']['nowData']['currentValue']\n",
        "print(currentValue)\n",
        "# we can also pull last week and last day and last month data"
      ],
      "execution_count": 45,
      "outputs": [
        {
          "output_type": "stream",
          "text": [
            "59.8619305742923\n"
          ],
          "name": "stdout"
        }
      ]
    },
    {
      "cell_type": "code",
      "metadata": {
        "id": "e2zmWsek8ezp",
        "colab_type": "code",
        "colab": {}
      },
      "source": [
        ""
      ],
      "execution_count": 43,
      "outputs": []
    }
  ]
}